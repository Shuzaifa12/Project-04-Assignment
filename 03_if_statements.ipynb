{
  "nbformat": 4,
  "nbformat_minor": 0,
  "metadata": {
    "colab": {
      "provenance": [],
      "authorship_tag": "ABX9TyMT1+8Np6KkjfusSvvq6XhT",
      "include_colab_link": true
    },
    "kernelspec": {
      "name": "python3",
      "display_name": "Python 3"
    },
    "language_info": {
      "name": "python"
    }
  },
  "cells": [
    {
      "cell_type": "markdown",
      "metadata": {
        "id": "view-in-github",
        "colab_type": "text"
      },
      "source": [
        "<a href=\"https://colab.research.google.com/github/Shuzaifa12/Project-04-Assignment/blob/main/03_if_statements.ipynb\" target=\"_parent\"><img src=\"https://colab.research.google.com/assets/colab-badge.svg\" alt=\"Open In Colab\"/></a>"
      ]
    },
    {
      "cell_type": "markdown",
      "source": [
        "**PRINT EVENTS**"
      ],
      "metadata": {
        "id": "K8zjdMSkYrd0"
      }
    },
    {
      "cell_type": "code",
      "execution_count": 2,
      "metadata": {
        "colab": {
          "base_uri": "https://localhost:8080/"
        },
        "id": "K2OpWaWWYbTt",
        "outputId": "88e5e363-d488-4cc7-f945-03523409b1b7"
      },
      "outputs": [
        {
          "output_type": "stream",
          "name": "stdout",
          "text": [
            "0\n",
            "2\n",
            "4\n",
            "6\n",
            "8\n",
            "10\n",
            "12\n",
            "14\n",
            "16\n",
            "18\n",
            "20\n",
            "22\n",
            "24\n",
            "26\n",
            "28\n",
            "30\n",
            "32\n",
            "34\n",
            "36\n",
            "38\n"
          ]
        }
      ],
      "source": [
        "def main():\n",
        "  num = 0\n",
        "  for num in range(20):\n",
        "    print(num * 2)\n",
        "\n",
        "if __name__ == \"__main__\":\n",
        "  main()"
      ]
    },
    {
      "cell_type": "markdown",
      "source": [
        "**INTERNATIONAL VOTING AGE**"
      ],
      "metadata": {
        "id": "CZ_LKyJpZop7"
      }
    },
    {
      "cell_type": "code",
      "source": [
        "Peturksbouipo = 16\n",
        "Stanlau = 25\n",
        "Mayengua = 48\n",
        "\n",
        "def main():\n",
        "  age : int = int(input(\"What is your age ? \"))\n",
        "\n",
        "  if age >= Peturksbouipo and age < Stanlau :\n",
        "    print(\"You are eligible to vote in the Peturksbouipo\")\n",
        "  elif age >= Stanlau and age < Mayengua:\n",
        "    print(\"You are eligible to vote in the Stanlau\")\n",
        "  elif age >= Mayengua:\n",
        "    print(\"You are eligible to vote in the Mayengua\")\n",
        "  else:\n",
        "    print(\"You are not eligible to vote\")\n",
        "\n",
        "if __name__ == \"__main__\":\n",
        "  main()\n",
        "\n"
      ],
      "metadata": {
        "colab": {
          "base_uri": "https://localhost:8080/"
        },
        "id": "gpGHGH87Zscy",
        "outputId": "57bfc338-3ee5-4ee3-a600-7aa7b3e72e33"
      },
      "execution_count": 9,
      "outputs": [
        {
          "output_type": "stream",
          "name": "stdout",
          "text": [
            "What is your age ? 30\n",
            "You are eligible to vote in the Stanlau\n"
          ]
        }
      ]
    },
    {
      "cell_type": "markdown",
      "source": [
        "**LEAP YEAR**"
      ],
      "metadata": {
        "id": "jhBcFpyrhx4A"
      }
    },
    {
      "cell_type": "code",
      "source": [
        "def main():\n",
        "  year : int = int(input(\"Enter a year : \"))\n",
        "\n",
        "  if year % 4 == 0:\n",
        "    if year % 100 == 0:\n",
        "      if year % 400 == 0:\n",
        "        print(f\"{year} is a leap year\")\n",
        "      else:\n",
        "        print(f\"{year} is not a leap year\")\n",
        "    else:\n",
        "      print(f\"{year} is a leap year\")\n",
        "  else:\n",
        "    print(f\"{year} is not a leap year\")\n",
        "\n",
        "if __name__ == '__main__':\n",
        "    main()"
      ],
      "metadata": {
        "colab": {
          "base_uri": "https://localhost:8080/"
        },
        "id": "3fRYPEUNh0h6",
        "outputId": "615102d4-b1af-4af1-be31-758a1549f8ec"
      },
      "execution_count": 19,
      "outputs": [
        {
          "output_type": "stream",
          "name": "stdout",
          "text": [
            "Enter a year : 2028\n",
            "2028 is a leap year\n"
          ]
        }
      ]
    },
    {
      "cell_type": "markdown",
      "source": [
        "**TALL ENOUGH TO RIDE**"
      ],
      "metadata": {
        "id": "4fyD5GhGjeGh"
      }
    },
    {
      "cell_type": "code",
      "source": [
        "minimum_height : int = 50\n",
        "def main():\n",
        "    height : float = float(input(\"What is your height : \"))\n",
        "\n",
        "    if height >= minimum_height:\n",
        "        print(\"You are tall enough to ride\")\n",
        "    else:\n",
        "        print(\"You are not tall enough to ride\")\n",
        "\n",
        "if __name__ == '__main__':\n",
        "    main()"
      ],
      "metadata": {
        "colab": {
          "base_uri": "https://localhost:8080/"
        },
        "id": "xflb9-AojiJd",
        "outputId": "e177b4bd-8229-4bd8-a321-da8ca777ea5b"
      },
      "execution_count": 22,
      "outputs": [
        {
          "output_type": "stream",
          "name": "stdout",
          "text": [
            "What is your height : 56.3\n",
            "You are tall enough to ride\n"
          ]
        }
      ]
    },
    {
      "cell_type": "markdown",
      "source": [
        "**RANDOM NUMBERS**"
      ],
      "metadata": {
        "id": "e4t3Fo3gkcW2"
      }
    },
    {
      "cell_type": "code",
      "source": [
        "import random\n",
        "\n",
        "def main():\n",
        "  for i in range(10):\n",
        "    print(random.randint(1,100))\n",
        "\n",
        "if __name__ == '__main__':\n",
        "    main()"
      ],
      "metadata": {
        "colab": {
          "base_uri": "https://localhost:8080/"
        },
        "id": "n7A51m1XkelP",
        "outputId": "f3ee0833-0858-4b24-9b71-6e4360374329"
      },
      "execution_count": 41,
      "outputs": [
        {
          "output_type": "stream",
          "name": "stdout",
          "text": [
            "20\n",
            "65\n",
            "63\n",
            "84\n",
            "4\n",
            "14\n",
            "12\n",
            "9\n",
            "77\n",
            "20\n"
          ]
        }
      ]
    }
  ]
}