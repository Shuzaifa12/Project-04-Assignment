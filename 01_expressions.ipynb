{
  "nbformat": 4,
  "nbformat_minor": 0,
  "metadata": {
    "colab": {
      "provenance": [],
      "authorship_tag": "ABX9TyMTbb56MHI3TnEBtNpMYTB8",
      "include_colab_link": true
    },
    "kernelspec": {
      "name": "python3",
      "display_name": "Python 3"
    },
    "language_info": {
      "name": "python"
    }
  },
  "cells": [
    {
      "cell_type": "markdown",
      "metadata": {
        "id": "view-in-github",
        "colab_type": "text"
      },
      "source": [
        "<a href=\"https://colab.research.google.com/github/Shuzaifa12/Project-04-Assignment/blob/main/01_expressions.ipynb\" target=\"_parent\"><img src=\"https://colab.research.google.com/assets/colab-badge.svg\" alt=\"Open In Colab\"/></a>"
      ]
    },
    {
      "cell_type": "markdown",
      "source": [
        "**DICE SIMULATOR**"
      ],
      "metadata": {
        "id": "W9ryPGEdzFCd"
      }
    },
    {
      "cell_type": "code",
      "execution_count": 3,
      "metadata": {
        "colab": {
          "base_uri": "https://localhost:8080/"
        },
        "id": "XEw7oqyXvYJp",
        "outputId": "98566170-47b4-45d8-8927-fc9c4249381f"
      },
      "outputs": [
        {
          "output_type": "stream",
          "name": "stdout",
          "text": [
            "die1 in main() starts as: 10\n",
            "Result of Die 1 :  3\n",
            "Result of Die 2 :  1\n",
            "Result of Die 1 :  4\n",
            "Result of Die 2 :  6\n",
            "Result of Die 1 :  5\n",
            "Result of Die 2 :  2\n"
          ]
        }
      ],
      "source": [
        "# Import the random library which lets us simulate random things like dice!\n",
        "import random\n",
        "\n",
        "# Total Number of sides on each die to roll\n",
        "NUM_SIDES = 6\n",
        "\n",
        "def roll_dice():\n",
        "    \"\"\"\n",
        "    Simulates rolling two dice and prints their total\n",
        "    \"\"\"\n",
        "    die1: int = random.randint(1, NUM_SIDES)\n",
        "    print(\"Result of Die 1 : \" , die1)\n",
        "\n",
        "    die2: int = random.randint(1, NUM_SIDES)\n",
        "    print(\"Result of Die 2 : \" , die2)\n",
        "\n",
        "def main():\n",
        "    local_var_die1: int = 10\n",
        "    print(\"die1 in main() starts as: \" + str(local_var_die1))\n",
        "    roll_dice()\n",
        "    roll_dice()\n",
        "    roll_dice()\n",
        "\n",
        "# This provided line is required at the end of a Python file\n",
        "# to call the main() function.\n",
        "if __name__ == '__main__':\n",
        "    main()"
      ]
    },
    {
      "cell_type": "markdown",
      "source": [
        "Einstein Mass Energy Equation --> E = m * c^2"
      ],
      "metadata": {
        "id": "H4CcPW8n2zDh"
      }
    },
    {
      "cell_type": "code",
      "source": [
        "def main():\n",
        "    c = 299792458\n",
        "    m = input(\"Enter the value of mass : \")\n",
        "    E = float(m) * c**2\n",
        "    print(\"The calculated value for Energy is = \", E)\n",
        "\n",
        "\n",
        "# This provided line is required at the end of\n",
        "# Python file to call the main() function.\n",
        "if __name__ == '__main__':\n",
        "    main()"
      ],
      "metadata": {
        "colab": {
          "base_uri": "https://localhost:8080/"
        },
        "id": "HmBvSyRo3GaC",
        "outputId": "6584e2f9-d7b8-4a10-f692-55856614d76e"
      },
      "execution_count": 7,
      "outputs": [
        {
          "output_type": "stream",
          "name": "stdout",
          "text": [
            "Enter the value of mass : 100.0\n",
            "The calculated value for Energy is =  8.987551787368176e+18\n"
          ]
        }
      ]
    },
    {
      "cell_type": "markdown",
      "source": [
        "**Feet to Inches**"
      ],
      "metadata": {
        "id": "G8DedIWS5lOW"
      }
    },
    {
      "cell_type": "code",
      "source": [
        "def main():\n",
        "  value_in_feet : float = float(input(\"Enter the value in feet : \"))\n",
        "  Conversion : float = value_in_feet * 12\n",
        "  print(\"The value in inches is : \" , Conversion)\n",
        "\n",
        "if __name__ == '__main__':\n",
        "  main()"
      ],
      "metadata": {
        "colab": {
          "base_uri": "https://localhost:8080/"
        },
        "id": "iRIq263H5nvY",
        "outputId": "2cff33d8-1d98-4b2b-d68c-0ce66bafba71"
      },
      "execution_count": 9,
      "outputs": [
        {
          "output_type": "stream",
          "name": "stdout",
          "text": [
            "Enter the value in feet : 63.2\n",
            "The value in inches is :  758.4000000000001\n"
          ]
        }
      ]
    },
    {
      "cell_type": "markdown",
      "source": [
        "**PYTHAGOREAN THEOREM**"
      ],
      "metadata": {
        "id": "rgtkLI1h8bld"
      }
    },
    {
      "cell_type": "code",
      "source": [
        "import math\n",
        "def main():\n",
        "  Side_AB :float = float(input('Enter the side of the triangle AB : '))\n",
        "  Side_AC :float = float(input('Enter the side of the triangle AC : '))\n",
        "  Side_BC : float = (Side_AB**2 + Side_AC**2)\n",
        "  print(\"The side of the traianlge BC is = \", Side_BC)\n",
        "  print(\"The square root of side of the traianlge BC is = \", math.sqrt(Side_BC))\n",
        "\n",
        "if __name__ == '__main__':\n",
        "  main()"
      ],
      "metadata": {
        "colab": {
          "base_uri": "https://localhost:8080/"
        },
        "id": "GFgwLgfI87-U",
        "outputId": "cc9826cd-81d8-4d8d-a663-6da5ee83d612"
      },
      "execution_count": 12,
      "outputs": [
        {
          "output_type": "stream",
          "name": "stdout",
          "text": [
            "Enter the side of the triangle AB : 4\n",
            "Enter the side of the triangle AC : 3\n",
            "The side of the traianlge BC is =  25.0\n",
            "The square root of side of the traianlge BC is =  5.0\n"
          ]
        }
      ]
    },
    {
      "cell_type": "markdown",
      "source": [
        "**REMAINDER DIVISION**"
      ],
      "metadata": {
        "id": "mqz2RKEcA2k0"
      }
    },
    {
      "cell_type": "code",
      "source": [
        "def main():\n",
        "  num1 : int = int(input(\"Enter Number 1 : \"))\n",
        "  num2 : int = int(input(\"Enter Number 2 : \"))\n",
        "  quotient : float = num1 / num2\n",
        "  remainder : float = num1 % num2\n",
        "  print(\"The quotient is : \", quotient)\n",
        "  print(\"The remainder is : \", remainder)\n",
        "\n",
        "if __name__ == '__main__':\n",
        "  main()"
      ],
      "metadata": {
        "colab": {
          "base_uri": "https://localhost:8080/"
        },
        "id": "CxeC95aYA6Ec",
        "outputId": "782eb214-c873-400f-ede5-7a60a2643e29"
      },
      "execution_count": 14,
      "outputs": [
        {
          "output_type": "stream",
          "name": "stdout",
          "text": [
            "Enter Number 1 : 24\n",
            "Enter Number 2 : 5\n",
            "The quotient is :  4.8\n",
            "The remainder is :  4\n"
          ]
        }
      ]
    },
    {
      "cell_type": "markdown",
      "source": [
        "**ROLL DICE**"
      ],
      "metadata": {
        "id": "Pv8L4cSFEe6y"
      }
    },
    {
      "cell_type": "code",
      "source": [
        "import random\n",
        "\n",
        "# Total dice sides:\n",
        "dice_Sides = 6\n",
        "\n",
        "def main():\n",
        "  # Random number of dice 1\n",
        "  die1 : int = random.randint(1, dice_Sides)\n",
        "  # Random number of dice 2\n",
        "  die2 : int = random.randint(1, dice_Sides)\n",
        "  # Result of Dice 1\n",
        "  print(\"Die 1 : \", die1)\n",
        "  # Result of Dice 2\n",
        "  print(\"Die 2 : \", die2)\n",
        "  #Total of two dice and their result\n",
        "  total = die1 + die2\n",
        "  print(\"Total : \", total)\n",
        "\n",
        "if __name__ == '__main__':\n",
        "  main()"
      ],
      "metadata": {
        "colab": {
          "base_uri": "https://localhost:8080/"
        },
        "id": "0VFLYVukEhyb",
        "outputId": "6e48ff5b-ae14-48ca-bb2a-fd7568565f77"
      },
      "execution_count": 15,
      "outputs": [
        {
          "output_type": "stream",
          "name": "stdout",
          "text": [
            "Die 1 :  3\n",
            "Die 2 :  5\n",
            "Total :  8\n"
          ]
        }
      ]
    },
    {
      "cell_type": "markdown",
      "source": [
        "**SECONDS IN YEARS**"
      ],
      "metadata": {
        "id": "UGoWzdgYHYjO"
      }
    },
    {
      "cell_type": "code",
      "source": [
        "def main():\n",
        "  days_in_years = 365\n",
        "  hours_in_a_day = 24\n",
        "  minutes_in_an_hour = 60\n",
        "  seconds_in_a_minutes = 60\n",
        "  years : float = float(input(\"Enter the number of years to calculate seconds in it : \"))\n",
        "  second_in_years = years * days_in_years * hours_in_a_day * minutes_in_an_hour * seconds_in_a_minutes\n",
        "  print(f\"The number of seconds in {years} years is {second_in_years}\")\n",
        "\n",
        "if __name__ == '__main__':\n",
        "  main()\n"
      ],
      "metadata": {
        "colab": {
          "base_uri": "https://localhost:8080/"
        },
        "id": "eMk1SJXJH3Vx",
        "outputId": "b2a042d3-dbbe-4262-cbb0-e68c856a0146"
      },
      "execution_count": 18,
      "outputs": [
        {
          "output_type": "stream",
          "name": "stdout",
          "text": [
            "Enter the number of years to calculate seconds in it : 1\n",
            "The number of seconds in 1.0 years is 31536000.0\n"
          ]
        }
      ]
    },
    {
      "cell_type": "markdown",
      "source": [
        "**TINY MAD LIB PROJECT**"
      ],
      "metadata": {
        "id": "3hu-sPahKNDh"
      }
    },
    {
      "cell_type": "code",
      "source": [
        "def main():\n",
        "  adjective : str = str(input(\"Enter an adjective : \"))\n",
        "  noun : str = str(input(\"Enter a noun : \"))\n",
        "  verb : str = str(input(\"Enter a verb : \"))\n",
        "  print(f\"The {adjective} {noun} {verb} glitter all over the principal's office.\")\n",
        "\n",
        "if __name__ == '__main__':\n",
        "  main()"
      ],
      "metadata": {
        "colab": {
          "base_uri": "https://localhost:8080/"
        },
        "id": "xnIHRQI7KSK5",
        "outputId": "25ed350a-30d3-4532-f4c4-831d3adb1ac6"
      },
      "execution_count": 19,
      "outputs": [
        {
          "output_type": "stream",
          "name": "stdout",
          "text": [
            "Enter an adjective : clumsy\n",
            "Enter a noun :unicorn\n",
            "Enter a verb : sneezed\n",
            "The clumsy unicorn sneezed glitter all over the principal's office.\n"
          ]
        }
      ]
    }
  ]
}