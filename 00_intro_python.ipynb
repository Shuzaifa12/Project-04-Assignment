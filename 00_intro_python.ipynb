{
  "nbformat": 4,
  "nbformat_minor": 0,
  "metadata": {
    "colab": {
      "provenance": [],
      "authorship_tag": "ABX9TyN0hz6U9Dl1tE4e/bOnZUWl",
      "include_colab_link": true
    },
    "kernelspec": {
      "name": "python3",
      "display_name": "Python 3"
    },
    "language_info": {
      "name": "python"
    }
  },
  "cells": [
    {
      "cell_type": "markdown",
      "metadata": {
        "id": "view-in-github",
        "colab_type": "text"
      },
      "source": [
        "<a href=\"https://colab.research.google.com/github/Shuzaifa12/Project-04-Assignment/blob/main/00_intro_python.ipynb\" target=\"_parent\"><img src=\"https://colab.research.google.com/assets/colab-badge.svg\" alt=\"Open In Colab\"/></a>"
      ]
    },
    {
      "cell_type": "markdown",
      "source": [
        "**THE ADDITION OF TWO NUMBERS**"
      ],
      "metadata": {
        "id": "SmM7b_TeFR7Z"
      }
    },
    {
      "cell_type": "code",
      "execution_count": 7,
      "metadata": {
        "colab": {
          "base_uri": "https://localhost:8080/"
        },
        "id": "xGapFH2REeLo",
        "outputId": "1ef11a47-4683-4e00-e967-627cc2b1363d"
      },
      "outputs": [
        {
          "output_type": "stream",
          "name": "stdout",
          "text": [
            "Enter the first number : 15\n",
            "Enter the second number : 20\n",
            "Program to add two integers\n",
            "The sum of 15 and 20 is : 35\n"
          ]
        }
      ],
      "source": [
        "def main(num1, num2):\n",
        "  result = num1 + num2\n",
        "  print(f\"The sum of {num1} and {num2} is : {result}\")\n",
        "\n",
        "val1 = input(\"Enter the first number : \")\n",
        "n1 = int(val1)\n",
        "val2 = input(\"Enter the second number : \")\n",
        "n2 = int(val2)\n",
        "\n",
        "# This provided line is required at the end of\n",
        "# Python file to call the main() function.\n",
        "if __name__ == '__main__':\n",
        "    main(n1, n2)"
      ]
    },
    {
      "cell_type": "markdown",
      "source": [
        "**AGREEMENT BOT**"
      ],
      "metadata": {
        "id": "g8Z5CQHzIXA4"
      }
    },
    {
      "cell_type": "code",
      "source": [
        "def main(fav_animal):\n",
        "    print(f\"My favorite animal is also {fav_animal}\")\n",
        "\n",
        "user_input = input(\"What is your favorite animal ? \")\n",
        "\n",
        "# This provided line is required at the end of\n",
        "# Python file to call the main() function.\n",
        "if __name__ == '__main__':\n",
        "    main(user_input)"
      ],
      "metadata": {
        "colab": {
          "base_uri": "https://localhost:8080/"
        },
        "id": "9CW9Zzh2IcVv",
        "outputId": "cedcfe1c-8ffc-4402-c71f-3a80c17f0bcb"
      },
      "execution_count": 9,
      "outputs": [
        {
          "output_type": "stream",
          "name": "stdout",
          "text": [
            "What is your favorite animal ? Lion\n",
            "My favorite animal is also Lion\n"
          ]
        }
      ]
    },
    {
      "cell_type": "markdown",
      "source": [
        "**FARENHEIT TO CELCIUS CONVERSION**"
      ],
      "metadata": {
        "id": "AvcPmYdnKZvh"
      }
    },
    {
      "cell_type": "code",
      "source": [
        "def main(Fahrenheit_value):\n",
        "  celcius_value = (Fahrenheit_value -32 ) * 5.0/9.0\n",
        "  print(f\"{Fahrenheit_value} deg Fahrenheit = {celcius_value} deg celcius\")\n",
        "\n",
        "user_input : float = float(input(\"Enter temperature value in Farenheit : \"))\n",
        "\n",
        "# This provided line is required at the end of\n",
        "# Python file to call the main() function.\n",
        "if __name__ == '__main__':\n",
        "    main(user_input)"
      ],
      "metadata": {
        "colab": {
          "base_uri": "https://localhost:8080/"
        },
        "id": "wTAvgx7TKg35",
        "outputId": "e49d4cff-e3e2-4862-d4a9-2d0d417442d9"
      },
      "execution_count": 17,
      "outputs": [
        {
          "output_type": "stream",
          "name": "stdout",
          "text": [
            "Enter temperature value in Farenheit : 78.9\n",
            "<class 'float'>\n",
            "78.9 deg Fahrenheit = 26.055555555555557 deg celcius\n"
          ]
        }
      ]
    },
    {
      "cell_type": "markdown",
      "source": [
        "**HOW OLD ARE THEY**"
      ],
      "metadata": {
        "id": "_etBXfVsSW8_"
      }
    },
    {
      "cell_type": "code",
      "source": [
        "def main():\n",
        "    Anton = 21\n",
        "    Beth = 6 + Anton\n",
        "    Chen = 20 + Beth\n",
        "    Drew = Chen + Anton\n",
        "    Ethan = Chen\n",
        "\n",
        "    print(f\"Anton is {Anton} years old\")\n",
        "    print(f\"Beth is {Beth} years old\")\n",
        "    print(f\"Chen is {Chen} years old\")\n",
        "    print(f\"Drew is {Drew} years old\")\n",
        "    print(f\"Ethan is {Ethan} years old\")\n",
        "\n",
        "# This provided line is required at the end of\n",
        "# Python file to call the main() function.\n",
        "if __name__ == '__main__':\n",
        "    main()"
      ],
      "metadata": {
        "colab": {
          "base_uri": "https://localhost:8080/"
        },
        "id": "ZLoHvoUESZ8Z",
        "outputId": "a5eb9d51-ad8d-43bf-9cb9-c2f77f133d8d"
      },
      "execution_count": 20,
      "outputs": [
        {
          "output_type": "stream",
          "name": "stdout",
          "text": [
            "Anton is 21 years old\n",
            "Beth is 27 years old\n",
            "Chen is 47 years old\n",
            "Drew is 68 years old\n",
            "Ethan is 47 years old\n"
          ]
        }
      ]
    },
    {
      "cell_type": "markdown",
      "source": [
        "**TRIANGLE PERIMETER**"
      ],
      "metadata": {
        "id": "q3pccULZWvFc"
      }
    },
    {
      "cell_type": "code",
      "source": [
        "def main():\n",
        "    side1 : float = float(input(\"Enter the first side of the triangle : \"))\n",
        "    side2 : float = float(input(\"Enter the second side of the triangle : \"))\n",
        "    side3 : float = float(input(\"Enter the third side of the triangle : \"))\n",
        "    perimeter : float = side1 + side2 + side3\n",
        "\n",
        "    print(f\"The perimeter of the triangle is = {perimeter}\")\n",
        "\n",
        "\n",
        "# This provided line is required at the end of\n",
        "# Python file to call the main() function.\n",
        "if __name__ == '__main__':\n",
        "    main()"
      ],
      "metadata": {
        "colab": {
          "base_uri": "https://localhost:8080/"
        },
        "id": "X8v-mVOUWy0V",
        "outputId": "ddbd3ef1-a233-4c49-c79f-c4396f1f56fe"
      },
      "execution_count": 24,
      "outputs": [
        {
          "output_type": "stream",
          "name": "stdout",
          "text": [
            "Enter the first side of the triangle : 20.5\n",
            "Enter the second side of the triangle : 65.2\n",
            "Enter the third side of the triangle : 12.9\n",
            "The perimeter of the triangle is 98.60000000000001\n"
          ]
        }
      ]
    },
    {
      "cell_type": "markdown",
      "source": [
        "**SQUARE NUMBERS**"
      ],
      "metadata": {
        "id": "0NhWUv48Y8HL"
      }
    },
    {
      "cell_type": "code",
      "source": [
        "def main():\n",
        "    number = input(\"Enter a number to find its square : \")\n",
        "    square = float(number)**2\n",
        "    print(f\"The square of {number} is {square}\")\n",
        "\n",
        "# This provided line is required at the end of\n",
        "# Python file to call the main() function.\n",
        "if __name__ == '__main__':\n",
        "    main()"
      ],
      "metadata": {
        "colab": {
          "base_uri": "https://localhost:8080/"
        },
        "id": "Zk_-4gNuY_p6",
        "outputId": "e0935d60-7ada-4896-b6c7-1602db353af4"
      },
      "execution_count": 27,
      "outputs": [
        {
          "output_type": "stream",
          "name": "stdout",
          "text": [
            "Enter a number to find its square : 4\n",
            "The square of 4 is 16.0\n"
          ]
        }
      ]
    }
  ]
}