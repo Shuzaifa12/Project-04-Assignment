{
  "nbformat": 4,
  "nbformat_minor": 0,
  "metadata": {
    "colab": {
      "provenance": [],
      "authorship_tag": "ABX9TyOc+sLDbaworaqxiEIZufOo",
      "include_colab_link": true
    },
    "kernelspec": {
      "name": "python3",
      "display_name": "Python 3"
    },
    "language_info": {
      "name": "python"
    }
  },
  "cells": [
    {
      "cell_type": "markdown",
      "metadata": {
        "id": "view-in-github",
        "colab_type": "text"
      },
      "source": [
        "<a href=\"https://colab.research.google.com/github/Shuzaifa12/Project-04-Assignment/blob/main/02_lists.ipynb\" target=\"_parent\"><img src=\"https://colab.research.google.com/assets/colab-badge.svg\" alt=\"Open In Colab\"/></a>"
      ]
    },
    {
      "cell_type": "markdown",
      "source": [
        "**ADD MANY NUMBERS**"
      ],
      "metadata": {
        "id": "rnTf5jaOa7iQ"
      }
    },
    {
      "cell_type": "code",
      "execution_count": null,
      "metadata": {
        "colab": {
          "base_uri": "https://localhost:8080/"
        },
        "id": "QdqEOZKQaVIN",
        "outputId": "ec53b8bf-f82c-4a5b-c029-8924890fb7ea"
      },
      "outputs": [
        {
          "output_type": "stream",
          "name": "stdout",
          "text": [
            "The sum of the list numbers is =  15\n",
            "\n",
            " This is a second method\n",
            "1\n",
            "3\n",
            "6\n",
            "10\n",
            "15\n"
          ]
        }
      ],
      "source": [
        "# First Method:\n",
        "\n",
        "import math\n",
        "\n",
        "def main():\n",
        "  num_list : list = [1,2,3,4,5]\n",
        "  sum_of_list_numbers = sum(num_list)\n",
        "  print(\"The sum of the list numbers is = \" , sum_of_list_numbers)\n",
        "\n",
        "if __name__ == \"__main__\":\n",
        "  main()\n",
        "\n",
        "\n",
        "# Second Method:\n",
        "\n",
        "print(\"\\n This is a second method\")\n",
        "\n",
        "def add_many_numbers(numbers):\n",
        "\n",
        "  total_number = 0\n",
        "  for number in numbers:\n",
        "    total_number += number\n",
        "    print(total_number)\n",
        "\n",
        "def main():\n",
        "  number_list = [1,2,3,4,5]\n",
        "  sum = add_many_numbers(number_list)\n",
        "\n",
        "if __name__ == \"__main__\":\n",
        "  main()\n",
        "\n",
        "\n"
      ]
    },
    {
      "cell_type": "markdown",
      "source": [
        "**DOUBLE LIST**"
      ],
      "metadata": {
        "id": "-lHyT-xcht08"
      }
    },
    {
      "cell_type": "code",
      "source": [
        "def main():\n",
        "  num_list = [2,4,6,16]\n",
        "  print(\"Single List = \", num_list)\n",
        "  double_list = [num * 2 for num in num_list]\n",
        "  print(\"Double List = \", double_list)\n",
        "\n",
        "if __name__ == \"__main__\":\n",
        "  main()\n"
      ],
      "metadata": {
        "colab": {
          "base_uri": "https://localhost:8080/"
        },
        "id": "b6evysf4hwU4",
        "outputId": "56f63e11-90b7-4420-d5d9-d16fcc8cdd2b"
      },
      "execution_count": null,
      "outputs": [
        {
          "output_type": "stream",
          "name": "stdout",
          "text": [
            "Single List =  [2, 4, 6, 16]\n",
            "Double List =  [4, 8, 12, 32]\n"
          ]
        }
      ]
    }
  ]
}